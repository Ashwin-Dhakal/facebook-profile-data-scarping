{
 "cells": [
  {
   "cell_type": "code",
   "execution_count": 3,
   "metadata": {},
   "outputs": [],
   "source": [
    "import os\n",
    "import json\n",
    "import facebook\n",
    "import requests\n",
    "\n",
    "if __name__=='__main__':\n",
    "    token= \"EAAZAjZBkiJDpQBACYLpsGEsGOV98JUybIDrKrZCLQY0o5uqoKY21GhEdyZADE7pD553SK1AuhdMyYX048mHFYi32RZBQJpFqLURJoAY03q7FAnOxjyJSpOwUOUqlHkSrTJpnVnQW7W1d52PFT7sQLy8aPM1QMIXlnlWfGYshis5YT6uaWsHQdBx6Qm5IXaMMZD\"\n",
    "    \n",
    "    graph=facebook.GraphAPI(token)\n",
    "    posts=graph.get_connections('me', 'posts')\n",
    "    \n",
    "    while True: #for the pagination\n",
    "        try:\n",
    "            with open('my_posts.jsonl', 'a') as f:\n",
    "                for post in posts['data']:\n",
    "                    f.write(json.dumps(post)+\"\\n\")\n",
    "                    #get next page\n",
    "                posts = requests.get(posts['paging']['next']).json()\n",
    "        except KeyError:\n",
    "            #no more pages , then break the loop\n",
    "            break\n",
    "                    "
   ]
  },
  {
   "cell_type": "code",
   "execution_count": 32,
   "metadata": {},
   "outputs": [],
   "source": [
    "infile = \"refined.txt\"\n",
    "outfile = \"refined2.txt\"\n",
    "\n",
    "delete_list = [ r\"\" ]\n",
    "fin=open(infile)\n",
    "fout = open(outfile,\"w+\")\n",
    "for line in fin:\n",
    "    for word in delete_list:\n",
    "        line = line.replace(word, \"\")\n",
    "    fout.write(line)\n",
    "fin.close()\n",
    "fout.close()"
   ]
  },
  {
   "cell_type": "code",
   "execution_count": 16,
   "metadata": {},
   "outputs": [],
   "source": [
    "import re\n",
    "import fileinput\n"
   ]
  },
  {
   "cell_type": "code",
   "execution_count": 18,
   "metadata": {},
   "outputs": [],
   "source": [
    "for line in fileinput.input(\"refined.txt\", inplace=True):\n",
    "    print (re.sub(\"\\d+\", \"\", line))"
   ]
  },
  {
   "cell_type": "code",
   "execution_count": null,
   "metadata": {},
   "outputs": [],
   "source": []
  },
  {
   "cell_type": "code",
   "execution_count": null,
   "metadata": {},
   "outputs": [],
   "source": []
  },
  {
   "cell_type": "code",
   "execution_count": null,
   "metadata": {},
   "outputs": [],
   "source": []
  }
 ],
 "metadata": {
  "kernelspec": {
   "display_name": "Python 3",
   "language": "python",
   "name": "python3"
  },
  "language_info": {
   "codemirror_mode": {
    "name": "ipython",
    "version": 3
   },
   "file_extension": ".py",
   "mimetype": "text/x-python",
   "name": "python",
   "nbconvert_exporter": "python",
   "pygments_lexer": "ipython3",
   "version": "3.6.1"
  }
 },
 "nbformat": 4,
 "nbformat_minor": 2
}
