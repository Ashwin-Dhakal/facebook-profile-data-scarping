{
 "cells": [
  {
   "cell_type": "code",
   "execution_count": 7,
   "metadata": {},
   "outputs": [
    {
     "ename": "AttributeError",
     "evalue": "module 'os' has no attribute 'environment'",
     "output_type": "error",
     "traceback": [
      "\u001b[1;31m---------------------------------------------------------------------------\u001b[0m",
      "\u001b[1;31mAttributeError\u001b[0m                            Traceback (most recent call last)",
      "\u001b[1;32m<ipython-input-7-f6b97dca31c9>\u001b[0m in \u001b[0;36m<module>\u001b[1;34m()\u001b[0m\n\u001b[0;32m      3\u001b[0m \u001b[1;32mimport\u001b[0m \u001b[0mfacebook\u001b[0m\u001b[1;33m\u001b[0m\u001b[0m\n\u001b[0;32m      4\u001b[0m \u001b[1;32mif\u001b[0m \u001b[0m__name__\u001b[0m\u001b[1;33m==\u001b[0m\u001b[1;34m'__main__'\u001b[0m\u001b[1;33m:\u001b[0m\u001b[1;33m\u001b[0m\u001b[0m\n\u001b[1;32m----> 5\u001b[1;33m     \u001b[0mtoken\u001b[0m\u001b[1;33m=\u001b[0m\u001b[0mos\u001b[0m\u001b[1;33m.\u001b[0m\u001b[0menvironment\u001b[0m\u001b[1;33m.\u001b[0m\u001b[0mget\u001b[0m\u001b[1;33m(\u001b[0m\u001b[1;34m'FACEBOOK_TEMP_TOKEN'\u001b[0m\u001b[1;33m)\u001b[0m\u001b[1;33m\u001b[0m\u001b[0m\n\u001b[0m\u001b[0;32m      6\u001b[0m     \u001b[1;31m#token= \"EAAZAjZBkiJDpQBACYLpsGEsGOV98JUybIDrKrZCLQY0o5uqoKY21GhEdyZADE7pD553SK1AuhdMyYX048mHFYi32RZBQJpFqLURJoAY03q7FAnOxjyJSpOwUOUqlHkSrTJpnVnQW7W1d52PFT7sQLy8aPM1QMIXlnlWfGYshis5YT6uaWsHQdBx6Qm5IXaMMZD\"\u001b[0m\u001b[1;33m\u001b[0m\u001b[1;33m\u001b[0m\u001b[0m\n\u001b[0;32m      7\u001b[0m \u001b[1;33m\u001b[0m\u001b[0m\n",
      "\u001b[1;31mAttributeError\u001b[0m: module 'os' has no attribute 'environment'"
     ]
    }
   ],
   "source": [
    "import os\n",
    "import json\n",
    "import facebook\n",
    "if __name__=='__main__':\n",
    "    token=os.environ.get('FACEBOOK_TEMP_TOKEN')\n",
    "    #token= \"EAAZAjZBkiJDpQBACYLpsGEsGOV98JUybIDrKrZCLQY0o5uqoKY21GhEdyZADE7pD553SK1AuhdMyYX048mHFYi32RZBQJpFqLURJoAY03q7FAnOxjyJSpOwUOUqlHkSrTJpnVnQW7W1d52PFT7sQLy8aPM1QMIXlnlWfGYshis5YT6uaWsHQdBx6Qm5IXaMMZD\"\n",
    "    \n",
    "    graph=facebook.GraphAPI(token)\n",
    "    profile=graph.get_object('me', fields='name,location')\n",
    "    \n",
    "    print(json.dumps(profile, indent=4))"
   ]
  }
 ],
 "metadata": {
  "kernelspec": {
   "display_name": "Python 3",
   "language": "python",
   "name": "python3"
  },
  "language_info": {
   "codemirror_mode": {
    "name": "ipython",
    "version": 3
   },
   "file_extension": ".py",
   "mimetype": "text/x-python",
   "name": "python",
   "nbconvert_exporter": "python",
   "pygments_lexer": "ipython3",
   "version": "3.6.1"
  }
 },
 "nbformat": 4,
 "nbformat_minor": 2
}
