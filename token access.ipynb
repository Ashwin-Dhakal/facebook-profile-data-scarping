{
 "cells": [
  {
   "cell_type": "code",
   "execution_count": 11,
   "metadata": {},
   "outputs": [
    {
     "name": "stdout",
     "output_type": "stream",
     "text": [
      "{\n",
      "    \"name\": \"Ashwin Dhakal\",\n",
      "    \"location\": {\n",
      "        \"id\": \"106973222667200\",\n",
      "        \"name\": \"Narayangarh, Nepal\"\n",
      "    },\n",
      "    \"id\": \"1669915066389295\"\n",
      "}\n"
     ]
    }
   ],
   "source": [
    "import os\n",
    "import json\n",
    "import facebook\n",
    "if __name__=='__main__':\n",
    "    #token=os.environ.get('FACEBOOK_TEMP_TOKEN')\n",
    "    token= \"EAAZAjZBkiJDpQBACYLpsGEsGOV98JUybIDrKrZCLQY0o5uqoKY21GhEdyZADE7pD553SK1AuhdMyYX048mHFYi32RZBQJpFqLURJoAY03q7FAnOxjyJSpOwUOUqlHkSrTJpnVnQW7W1d52PFT7sQLy8aPM1QMIXlnlWfGYshis5YT6uaWsHQdBx6Qm5IXaMMZD\"\n",
    "    \n",
    "    graph=facebook.GraphAPI(token)\n",
    "    profile=graph.get_object('me', fields='name,location')\n",
    "    \n",
    "    print(json.dumps(profile, indent=4))"
   ]
  }
 ],
 "metadata": {
  "kernelspec": {
   "display_name": "Python 3",
   "language": "python",
   "name": "python3"
  },
  "language_info": {
   "codemirror_mode": {
    "name": "ipython",
    "version": 3
   },
   "file_extension": ".py",
   "mimetype": "text/x-python",
   "name": "python",
   "nbconvert_exporter": "python",
   "pygments_lexer": "ipython3",
   "version": "3.6.1"
  }
 },
 "nbformat": 4,
 "nbformat_minor": 2
}
